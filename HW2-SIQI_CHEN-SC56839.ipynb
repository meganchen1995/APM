{
 "cells": [
  {
   "cell_type": "markdown",
   "metadata": {},
   "source": [
    "\n",
    "# <p style=\"text-align: center;\">MIS382: Advanced Predictive Modeling</p>\n",
    "# <p style=\"text-align: center;\">Assignment 2</p>\n",
    "## <p style=\"text-align: center;\">Total points: 40</p>\n",
    "## <p style=\"text-align: center;\">Due: Wed, October 4th, submitted via Canvas by 11:59 pm</p>\n",
    "\n",
    "Your homework should be written in a **Jupyter notebook**. You may work in groups of two if you wish. Only one student per team needs to submit the assignment on Canvas.  But be sure to include name and UTID for both students.  Homework groups will be created and managed through Canvas, so please do not arbitrarily change your homework group.  \n",
    "\n",
    "Also, please make sure your code runs and the graphics (and anything else) are displayed in your notebook before submitting. (%matplotlib inline)"
   ]
  },
  {
   "cell_type": "markdown",
   "metadata": {},
   "source": [
    "# Question 1 - Bias-variance Trandeoff (2pts)\n",
    "How does the choice of K in the K-nearest neighbor classifier reflect a bias-variance tradeoff?\n",
    "\n",
    "## Answer"
   ]
  },
  {
   "cell_type": "markdown",
   "metadata": {},
   "source": [
    "- When k gets larger, fitted model gets simpler (i.e. when k=n the fitted line is simply the sample average). Fitted lines will not vary much with different sets of samples, hence low variance. However, since the model is simple, the avreage fitted line will likely to be very different from true line, hence high bias.\n",
    "\n",
    "- When k gets smaller, fitted model gets more complex. Fitted lines will vary a lot with different sets of samples, hence high variance. However, since the model is more complex and fits data better, the avreage fitted line will likely to be close to true line, hence low bias."
   ]
  },
  {
   "cell_type": "markdown",
   "metadata": {},
   "source": [
    "# Question 2: Data Exploration and Regression Analysis (4+3+4+4=15pts)\n",
    "\n",
    "Consider the dataset provided (russett_full_v2.csv) about agricultural inequality, industrial development and political instability in different countries. More information about it can be found [here](https://www.rdocumentation.org/packages/plspm/versions/0.4.9/topics/russett) though the data itself is slightly different than that referenced in the link.\n",
    "\n",
    "a) (4 points) Generate box-plots of the \"rent\" (% of farmers that rent all their land), \"inst\" (measure of political stability in the executive branch), \"ecks\" (number of violent internal war incidents ) and \"demo_score\" ( derived measure of the level of a country's democracy from 1945 to 61 ) and identify the cutoff values for outliers. \n",
    "\n",
    "Generate 3 scatterplots of \"rent\" against \"demo_score\", \"inst\" against \"demo_score\" and \"ecks\" against \"demo_score\" with the identified outliers colored differently than non-outliers in each; comment on how inclusion of the outliers would affect a predictive model for the \"demo_score\" response.  \n",
    "\n",
    "b) (3 points) Let us try to fit an MLR, using ordinary least squares, to this dataset with \"demo_score\" as the dependent variable using only the predictors 'rent','inst', and 'ecks' . \n",
    "\n",
    "    from sklearn.model_selection import train_test_split\n",
    "    X_train, X_test, y_train, y_test = train_test_split(X,y,test_size = 0.30, random_state=22)   \n",
    "\n",
    "Report the RMSE obtained on both X_train and X_test. How much does this increase when you score your model on X_test?\n",
    "\n",
    "c) (4 points ) Try to predict ”demo_score” using a robust regression using Huber loss.  You can use the [sklearn package](  http://scikit-learn.org/stable/modules/generated/sklearn.linear_model.HuberRegressor.html).  Set regularization parameter alpha to 0.0 and all other parameters as default.\n",
    "Report RMSE obtained on both X_train and X_test.\n",
    "\n",
    "d) (4 points ) Compare and comment on the model fits obtained in (b) and (c) and plot the residual plots using all data for each model. How do outliers affect the relative performance of ordinary least squares regression, and robust regression with Huber loss in general? \n",
    "\n",
    "## Answer"
   ]
  },
  {
   "cell_type": "code",
   "execution_count": 1,
   "metadata": {
    "collapsed": true
   },
   "outputs": [],
   "source": [
    "import pandas as pd\n",
    "russett = pd.read_csv('russett_full_v2.csv')"
   ]
  },
  {
   "cell_type": "markdown",
   "metadata": {},
   "source": [
    "### a)"
   ]
  },
  {
   "cell_type": "code",
   "execution_count": 2,
   "metadata": {},
   "outputs": [
    {
     "name": "stdout",
     "output_type": "stream",
     "text": [
      "Populating the interactive namespace from numpy and matplotlib\n"
     ]
    },
    {
     "data": {
      "text/plain": [
       "<matplotlib.axes._subplots.AxesSubplot at 0x11127f5d0>"
      ]
     },
     "execution_count": 2,
     "metadata": {},
     "output_type": "execute_result"
    },
    {
     "data": {
      "image/png": "[encoded data removed]",
      "text/plain": [
       "<matplotlib.figure.Figure at 0x1111e3e50>"
      ]
     },
     "metadata": {},
     "output_type": "display_data"
    }
   ],
   "source": [
    "from matplotlib import pyplot as plt\n",
    "%pylab inline\n",
    "\n",
    "columns = ['rent','inst','ecks','demo_score']\n",
    "russett.boxplot(column = columns)"
   ]
  },
  {
   "cell_type": "code",
   "execution_count": 3,
   "metadata": {},
   "outputs": [
    {
     "name": "stdout",
     "output_type": "stream",
     "text": [
      "rent: outlier cutoff is (-9.075,67.525)\n",
      "inst: outlier cutoff is (12.425,23.425)\n",
      "ecks: outlier cutoff is (-24.5,51.5)\n",
      "demo_score: outlier cutoff is (-56.25,153.75)\n"
     ]
    }
   ],
   "source": [
    "from scipy.stats import iqr\n",
    "\n",
    "cutoff = {}\n",
    "for c in columns:\n",
    "    r = iqr(russett[c])\n",
    "    upper = russett[c].quantile(0.75) + 1.5*r\n",
    "    lower = russett[c].quantile(0.25) - 1.5*r\n",
    "    cutoff[c] = (lower,upper)\n",
    "    print '{}: outlier cutoff is ({},{})'.format(c, lower, upper)\n"
   ]
  },
  {
   "cell_type": "code",
   "execution_count": 4,
   "metadata": {
    "scrolled": true
   },
   "outputs": [
    {
     "data": {
      "text/plain": [
       "<matplotlib.text.Text at 0x1131b7350>"
      ]
     },
     "execution_count": 4,
     "metadata": {},
     "output_type": "execute_result"
    },
    {
     "data": {
      "image/png": "[encoded data removed]",
      "text/plain": [
       "<matplotlib.figure.Figure at 0x111319a90>"
      ]
     },
     "metadata": {},
     "output_type": "display_data"
    }
   ],
   "source": [
    "color = {}\n",
    "for c in columns:\n",
    "    color[c] = ['r' if x < cutoff[c][0] or x > cutoff[c][1] else 'b' for x in russett[c]]\n",
    "\n",
    "fig, (ax1, ax2, ax3) = subplots(nrows=1,\n",
    "                                ncols=3,\n",
    "                                sharey=True,\n",
    "                                figsize=(16,4))\n",
    "ax1.scatter(russett.rent, russett.demo_score, color = color['rent'])\n",
    "ax1.set_title('demo_score vs rent')\n",
    "ax1.set_xlabel('rent')\n",
    "ax1.set_ylabel('demo_score')\n",
    "\n",
    "ax2.scatter(russett.inst, russett.demo_score, color = color['inst'])\n",
    "ax2.set_title('demo_score vs inst')\n",
    "ax2.set_xlabel('inst')\n",
    "\n",
    "ax3.scatter(russett.ecks, russett.demo_score, color = color['ecks'])\n",
    "ax3.set_title('demo_score vs ecks')\n",
    "ax3.set_xlabel('ecks')"
   ]
  },
  {
   "cell_type": "markdown",
   "metadata": {},
   "source": [
    "If we include outlier in sample, prediction accuracy might be strongly affected. For example, for a OLS regession model, in order the minize the residual from outliers, fitted line might not capture the main pattern of the sample, hence reducing prediction accuracy."
   ]
  },
  {
   "cell_type": "markdown",
   "metadata": {},
   "source": [
    "### b)"
   ]
  },
  {
   "cell_type": "code",
   "execution_count": 5,
   "metadata": {
    "scrolled": true
   },
   "outputs": [
    {
     "name": "stdout",
     "output_type": "stream",
     "text": [
      "in-sample RMSE: 25.781460397\n",
      "out-of-sample RMSE: 32.580671803\n",
      "increase in RMSE (from train to test): 6.79921140601\n"
     ]
    },
    {
     "name": "stderr",
     "output_type": "stream",
     "text": [
      "/usr/local/lib/python2.7/site-packages/scipy/linalg/basic.py:1018: RuntimeWarning: internal gelsd driver lwork query error, required iwork dimension not returned. This is likely the result of LAPACK bug 0038, fixed in LAPACK 3.2.2 (released July 21, 2010). Falling back to 'gelss' driver.\n",
      "  warnings.warn(mesg, RuntimeWarning)\n"
     ]
    }
   ],
   "source": [
    "from sklearn import linear_model\n",
    "from sklearn.metrics import mean_squared_error\n",
    "import numpy as np\n",
    "from sklearn.model_selection import train_test_split\n",
    "\n",
    "X = russett[['rent', 'inst', 'ecks']]\n",
    "y = russett['demo_score']\n",
    "\n",
    "X_train, X_test, y_train, y_test = train_test_split(X,y,test_size = 0.30, random_state=22)\n",
    "\n",
    "reg = linear_model.LinearRegression()\n",
    "reg.fit(X_train,y_train)\n",
    "y_train_fit = reg.predict(X_train)\n",
    "y_pred = reg.predict(X_test)\n",
    "\n",
    "\n",
    "print 'in-sample RMSE:', sqrt(mean_squared_error(y_train,y_train_fit))\n",
    "print 'out-of-sample RMSE:', sqrt(mean_squared_error(y_test,y_pred))\n",
    "print 'increase in RMSE (from train to test):', sqrt(mean_squared_error(y_test,y_pred)) - sqrt(mean_squared_error(y_train,y_train_fit))"
   ]
  },
  {
   "cell_type": "markdown",
   "metadata": {},
   "source": [
    "### c)"
   ]
  },
  {
   "cell_type": "code",
   "execution_count": 6,
   "metadata": {},
   "outputs": [
    {
     "name": "stdout",
     "output_type": "stream",
     "text": [
      "in-sample RMSE: 26.8358817541\n",
      "out-of-sample RMSE: 29.1663802872\n"
     ]
    }
   ],
   "source": [
    "huber = linear_model.HuberRegressor(alpha = 0)\n",
    "\n",
    "huber.fit(X_train,y_train)\n",
    "y_train_fit = huber.predict(X_train)\n",
    "y_pred = huber.predict(X_test)\n",
    "\n",
    "print 'in-sample RMSE:', sqrt(mean_squared_error(y_train,y_train_fit))\n",
    "print 'out-of-sample RMSE:', sqrt(mean_squared_error(y_test,y_pred))\n"
   ]
  },
  {
   "cell_type": "markdown",
   "metadata": {},
   "source": [
    "### d)"
   ]
  },
  {
   "cell_type": "code",
   "execution_count": 7,
   "metadata": {
    "scrolled": true
   },
   "outputs": [
    {
     "data": {
      "text/plain": [
       "<matplotlib.text.Text at 0x113cd26d0>"
      ]
     },
     "execution_count": 7,
     "metadata": {},
     "output_type": "execute_result"
    },
    {
     "data": {
      "image/png": "[encoded data removed]",
      "text/plain": [
       "<matplotlib.figure.Figure at 0x111414d10>"
      ]
     },
     "metadata": {},
     "output_type": "display_data"
    }
   ],
   "source": [
    "y_fit_reg = reg.predict(X)\n",
    "y_fit_huber = huber.predict(X)\n",
    "\n",
    "fig, (ax1, ax2) = subplots(nrows=1,\n",
    "                                ncols=2,\n",
    "                                figsize=(12,4))\n",
    "ax1.scatter(y_fit_reg, y - y_fit_reg, c = 'b')\n",
    "ax1.hlines(y=0,xmin=0,xmax=70)\n",
    "ax1.set_xlabel('fitted values')\n",
    "ax1.set_ylabel('residuals')\n",
    "ax1.set_title('Residual Plot for OLS Regression')\n",
    "\n",
    "ax2.scatter(y_fit_huber, y - y_fit_huber, c = 'b')\n",
    "ax2.hlines(y=0,xmin=-20,xmax=70)\n",
    "ax2.set_xlabel('fitted values')\n",
    "ax2.set_ylabel('residuals')\n",
    "ax2.set_title('Residual Plot for Robust Regression with Huber Loss')\n",
    "\n"
   ]
  },
  {
   "cell_type": "markdown",
   "metadata": {},
   "source": [
    "Outliers affect OLS regression much stronger than robust regression with Huber loss. As shown in the residual plot for OLS regression, the smallest fitted value is greater than 10 and the residual is lower than 80. However, smallest fitted value for robust regression with Huber loss is around -12 and has the residual is higher than 80. Robust regression model reduce the effect of outliers on fitted line by reducing weight on residual resulting from outliers."
   ]
  },
  {
   "cell_type": "markdown",
   "metadata": {},
   "source": [
    "# Question 3 - Sampling (4+4=8pts)\n",
    "\n",
    "1. NBC has come up with an extreme TV show, and each of its viewers either likes or hates it. (no middle ground here; we are in a “black and white age”). NBC wants to estimate what fraction p of its audience like the show by “randomly” calling n viewers and tallying their responses so as to estimate the true value of p to a fractional accuracy of within ±ε%, with a confidence of (1 − α) × 100%. For α = 0.10, ε = 0.03 (i.e. your answer will be $\\hat{p}$ ± 0.03), what is the minimum value of n needed if true value (i) p = 0.5, (ii) p=0.25? \n",
    "\n",
    "2. Suppose for a certain value of p and choice of ε, you calculate that you will need 1000 samples for α = 0.02. You now decide to obtain a more accurate answer by either (i) reducing α to 0.01, keeping the same ε or by (ii) reducing ε by a factor of 2 from the original value, and increasing α to 0.05. In each case how many samples would you need now?\n",
    "\n",
    "## Answer"
   ]
  },
  {
   "cell_type": "markdown",
   "metadata": {},
   "source": [
    "### 1."
   ]
  },
  {
   "cell_type": "markdown",
   "metadata": {},
   "source": [
    "Since $\\alpha = 0.10$, $Z_{\\alpha/2} = 1.65$\n",
    "\n",
    "i) When $p = 0.5$,\n",
    "\\begin{align}\n",
    "n &= p(1-p)(\\frac{Z_{\\alpha/2}}{\\epsilon})^2 \\\\\n",
    "&= 0.5(1-0.5)(\\frac{1.65}{0.03})^2 \\\\\n",
    "&= 756.25 \\\\\n",
    "&\\approx \\textbf{757}\n",
    "\\end{align}\n",
    "\n",
    "ii) When $p = 0.25$,\n",
    "\\begin{align}\n",
    "n &= p(1-p)(\\frac{Z_{\\alpha/2}}{\\epsilon})^2 \\\\\n",
    "&= 0.25(1-0.25)(\\frac{1.65}{0.03})^2 \\\\\n",
    "&= 567.1875 \\\\\n",
    "&\\approx \\textbf{568}\n",
    "\\end{align}"
   ]
  },
  {
   "cell_type": "markdown",
   "metadata": {},
   "source": [
    "### 2."
   ]
  },
  {
   "cell_type": "markdown",
   "metadata": {},
   "source": [
    "When $\\alpha = 0.02$, $Z_{\\alpha/2} = 2.33$.\n",
    "\n",
    "Since,\n",
    "\\begin{align}\n",
    "n &= p(1-p)(\\frac{Z_{\\alpha/2}}{\\epsilon})^2\\\\\n",
    "&= p(1-p)(\\frac{2.33}{\\epsilon})^2 \\\\\n",
    "&= 1000 \\\\\n",
    "\\end{align}\n",
    "\n",
    "Then,\n",
    "\\begin{align}\n",
    "\\frac{p(1-p)}{\\epsilon^2} &= \\frac{1000}{2.33^2} \\\\\n",
    "&= 184.2\\\\\n",
    "\\end{align}\n",
    "\n",
    "i) $\\alpha_{new} = 0.01$, $Z_{\\alpha_{new}/2} = 2.58$. Then,\n",
    "\\begin{align}\n",
    "n_{new} &= p(1-p)(\\frac{Z_{\\alpha_{new}/2}}{\\epsilon})^2\\\\\n",
    "&= 2.58^2 \\times 184.2\\\\\n",
    "&= 1226.10\\\\\n",
    "&\\approx \\textbf{1227}\n",
    "\\end{align}\n",
    "\n",
    "ii) $\\alpha_{new} = 0.05$, $Z_{\\alpha_{new}/2} = 1.96$. $\\epsilon_{new} = \\frac{\\epsilon}{2}$. Then,\n",
    "\\begin{align}\n",
    "n_{new} &= p(1-p)(\\frac{Z_{\\alpha_{new}/2}}{\\epsilon_{new}})^2\\\\\n",
    "&= 2^2 \\times 1.96^2 \\times 184.2\\\\\n",
    "&= 2830.49\\\\\n",
    "&\\approx \\textbf{2831}\n",
    "\\end{align}\n"
   ]
  },
  {
   "cell_type": "markdown",
   "metadata": {},
   "source": [
    "# Question 4 - Principal Component Analysis (10 points)\n",
    "\n",
    "Import the diabetes dataset as in Q1 and add the interaction variables.\n",
    "You should have 65 variables and one target variable."
   ]
  },
  {
   "cell_type": "code",
   "execution_count": 8,
   "metadata": {
    "collapsed": true
   },
   "outputs": [],
   "source": [
    "from sklearn import datasets\n",
    "diabetes = datasets.load_diabetes()\n",
    "X = diabetes.data\n",
    "y = diabetes.target\n",
    "\n",
    "from sklearn.preprocessing import PolynomialFeatures\n",
    "X = PolynomialFeatures(2, include_bias=False).fit_transform(X)"
   ]
  },
  {
   "cell_type": "markdown",
   "metadata": {},
   "source": [
    "Next, use [StandardScaler](http://scikit-learn.org/stable/modules/generated/sklearn.preprocessing.StandardScaler.html) to center and scale each feature as follows."
   ]
  },
  {
   "cell_type": "code",
   "execution_count": 9,
   "metadata": {
    "collapsed": true
   },
   "outputs": [],
   "source": [
    "from sklearn.preprocessing import StandardScaler\n",
    "stdScaler = StandardScaler()\n",
    "X = stdScaler.fit_transform(X)"
   ]
  },
  {
   "cell_type": "markdown",
   "metadata": {},
   "source": [
    "(a) Perform PCA using the sklearn [PCA](http://scikit-learn.org/stable/modules/generated/sklearn.decomposition.PCA.html) package.  Create i) a scree plot depicting the proportion of variance and ii) a cumulative proportion of variance explained by the principal components of the data (X matrix).  Refer to Figure 10.4 of JW for an example.  You may use the output attribute *explained variance ratio*. (3pts)\n",
    "\n",
    "(b) How many principal components (N1, N2, N3) are required to explain cumulative variance of 30%, 60%, and 90%, respectively? (3pts)\n",
    "\n",
    "(c) Fit an ordinary least squares linear regression using N1, N2, and N3 number of principal components, respectively. (This is called Principal Components Regression) Use entire dataset, e.g. 442 rows. Evaluate the models using mean squared error (MSE). (4pts)\n",
    "\n",
    "## Answer"
   ]
  },
  {
   "cell_type": "markdown",
   "metadata": {},
   "source": [
    "### a)"
   ]
  },
  {
   "cell_type": "code",
   "execution_count": 10,
   "metadata": {
    "scrolled": true
   },
   "outputs": [
    {
     "data": {
      "text/plain": [
       "PCA(copy=True, iterated_power='auto', n_components=None, random_state=None,\n",
       "  svd_solver='auto', tol=0.0, whiten=False)"
      ]
     },
     "execution_count": 10,
     "metadata": {},
     "output_type": "execute_result"
    }
   ],
   "source": [
    "from sklearn.decomposition import PCA\n",
    "pca = PCA()\n",
    "pca.fit(X)"
   ]
  },
  {
   "cell_type": "code",
   "execution_count": 11,
   "metadata": {
    "scrolled": true
   },
   "outputs": [
    {
     "data": {
      "text/plain": [
       "<matplotlib.text.Text at 0x114886710>"
      ]
     },
     "execution_count": 11,
     "metadata": {},
     "output_type": "execute_result"
    },
    {
     "data": {
      "image/png": "[encoded data removed]",
      "text/plain": [
       "<matplotlib.figure.Figure at 0x113f64490>"
      ]
     },
     "metadata": {},
     "output_type": "display_data"
    }
   ],
   "source": [
    "fig, (ax1, ax2) = subplots(nrows=1,ncols=2,figsize=(12,4))\n",
    "\n",
    "ax1.plot(pca.explained_variance_ratio_, marker = 'o', markerfacecolor='none') \n",
    "ax1.set_xlabel('principle component')\n",
    "ax1.set_ylabel('prop. variance explained')\n",
    "\n",
    "ax2.plot(np.cumsum(pca.explained_variance_ratio_), marker = 'o', markerfacecolor='none')\n",
    "ax2.set_xlabel('principle component')\n",
    "ax2.set_ylabel('cumulative prop. variance explained')"
   ]
  },
  {
   "cell_type": "markdown",
   "metadata": {},
   "source": [
    "### b)"
   ]
  },
  {
   "cell_type": "code",
   "execution_count": 12,
   "metadata": {
    "scrolled": true
   },
   "outputs": [
    {
     "name": "stdout",
     "output_type": "stream",
     "text": [
      "3 principal components are required to explain cumulative variance of 30%\n",
      "9 principal components are required to explain cumulative variance of 60%\n",
      "27 principal components are required to explain cumulative variance of 90%\n"
     ]
    }
   ],
   "source": [
    "cum_exp = np.cumsum(pca.explained_variance_ratio_)\n",
    "\n",
    "N1 = np.where(cum_exp >= 0.3)[0][0]+1\n",
    "N2 = np.where(cum_exp >= 0.6)[0][0]+1\n",
    "N3 = np.where(cum_exp >= 0.9)[0][0]+1\n",
    "\n",
    "print '{} principal components are required to explain cumulative variance of 30%'.format(N1)\n",
    "print '{} principal components are required to explain cumulative variance of 60%'.format(N2)\n",
    "print '{} principal components are required to explain cumulative variance of 90%'.format(N3)"
   ]
  },
  {
   "cell_type": "markdown",
   "metadata": {},
   "source": [
    "### c)"
   ]
  },
  {
   "cell_type": "code",
   "execution_count": 13,
   "metadata": {},
   "outputs": [
    {
     "name": "stdout",
     "output_type": "stream",
     "text": [
      "MSE using 3 principal component: 5120.60554779\n",
      "MSE using 9 principal component: 3942.78675143\n",
      "MSE using 27 principal component: 2857.425949\n"
     ]
    }
   ],
   "source": [
    "pca_30 = PCA(n_components = N1)\n",
    "pca_60 = PCA(n_components = N2)\n",
    "pca_90 = PCA(n_components = N3)\n",
    "\n",
    "pca_30.fit(X)\n",
    "pca_60.fit(X)\n",
    "pca_90.fit(X)\n",
    "\n",
    "X_pca_30 = pca_30.fit_transform(X)\n",
    "X_pca_60 = pca_60.fit_transform(X)\n",
    "X_pca_90 = pca_90.fit_transform(X)\n",
    "\n",
    "reg = linear_model.LinearRegression()\n",
    "reg.fit(X_pca_30,y)\n",
    "y_fit_30 = reg.predict(X_pca_30)\n",
    "\n",
    "reg.fit(X_pca_60,y)\n",
    "y_fit_60 = reg.predict(X_pca_60)\n",
    "\n",
    "reg.fit(X_pca_90,y)\n",
    "y_fit_90 = reg.predict(X_pca_90)\n",
    "\n",
    "print 'MSE using {} principal component:'.format(N1), mean_squared_error(y,y_fit_30)\n",
    "print 'MSE using {} principal component:'.format(N2), mean_squared_error(y,y_fit_60)\n",
    "print 'MSE using {} principal component:'.format(N3), mean_squared_error(y,y_fit_90)"
   ]
  },
  {
   "cell_type": "markdown",
   "metadata": {},
   "source": [
    "# Question 5 -  Feature Selection ( 5 points )\n",
    "\n",
    "Explain what you understand by the two wrapper methods for feature selection (forward and backward selection) (no more than 1 paragraph). \n"
   ]
  },
  {
   "cell_type": "markdown",
   "metadata": {},
   "source": [
    "In linear regression models, including too many predictors might cause overfitting problems. By reducing number of predictors and selecting important features, model would have higher prediction accuracy and better interprebility. Forward and backward selection are two wrapper methods that select the subset of features which result in best fitted models. Forward selection starts from null model and adds one predictor that provides the most improvement in fit at a time until no more improvement can be made; Backward selection starts from full model and remove the least useful predictor at a time until no more predictor can be removed for model improvement."
   ]
  }
 ],
 "metadata": {
  "anaconda-cloud": {},
  "kernelspec": {
   "display_name": "Python 2",
   "language": "python",
   "name": "python2"
  },
  "language_info": {
   "codemirror_mode": {
    "name": "ipython",
    "version": 2
   },
   "file_extension": ".py",
   "mimetype": "text/x-python",
   "name": "python",
   "nbconvert_exporter": "python",
   "pygments_lexer": "ipython2",
   "version": "2.7.13"
  }
 },
 "nbformat": 4,
 "nbformat_minor": 1
}
